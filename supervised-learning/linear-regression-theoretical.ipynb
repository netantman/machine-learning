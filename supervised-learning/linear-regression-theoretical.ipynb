{
 "cells": [
  {
   "cell_type": "markdown",
   "id": "89e65fa0",
   "metadata": {},
   "source": [
    "### Gauss-Markov Theorm\n",
    "\n",
    "Under the assumptions A1, A4 and A5 (notably, A6, or Gaussian of errors is not required). Then the OLS estimator is the **Best Linear Unbiased Estimator (BLUE)**. That is, let $\\tilde{\\beta}$ be a linear conditionally unbiased estimator of $\\beta$, i.e. $E(\\tilde{\\beta}|X)=E(\\hat{\\beta}|X)=\\beta$, and $\\tilde\\beta=A\\beta$ for some matrix $A$. Then **$var(\\tilde{\\beta}|X)- E(\\hat{\\beta}|X)$ is a positive-definite matrix**, where it is a zero-matrix only when $\\tilde{\\beta}=\\hat{\\beta}$.\n",
    "\n",
    "The Gauss-Markov theorem implies that the **least squares estimator has the smallest mean squared error of all linear estimators with no bias**. However, there may well exist a biased estimator with smaller mean squared error. Such an estimator would trade a little bias for a larger reduction in variance. And this is the intuition of shrinkage methods.\n",
    "\n",
    "### Large- and Small-sample properties of the OLS estimators\n",
    "\n",
    "Under the assumptions A1-A4 above, \n",
    "- OLS estimator is **consistent**, meaning in large sample, $\\hat{\\beta}$ tends to the true $\\beta$ value with probability one. \n",
    "- OLS estimator is **asympototic normal**.\n",
    "In particular, consistency and asymptotic normality does not need homogeneity of regression errors or conditional normality of the errors.\n",
    "\n",
    "Under the **additional assumption of A6**: $\\epsilon\\sim N(0, \\sigma^2 I)$, the OLS estimators are normal even in small samples: \n",
    "\n",
    "$$\\hat{\\beta}\\sim N(\\beta, (X^{T}X)^{-1}\\sigma^2).$$\n",
    "\n",
    "The proof is to note that while it is trivial that $\\hat{\\beta}$ is normal, and it suffices to deduce its mean and variance from the expression of $\\hat{\\beta}$ and the model on $y$: $y=X\\beta+\\epsilon$. \n",
    "\n",
    "For details on this account, see Chapter 18 of [< Intro to Econometrics >](https://www.evernote.com/shard/s191/nl/21353936/23a3b1a5-8f90-47a5-b796-d29931ba8db3?title=Introduction_to_Econometrics%EF%BC%8CUpdate%EF%BC%8C3e.pdf)."
   ]
  }
 ],
 "metadata": {
  "kernelspec": {
   "display_name": "Python 3 (ipykernel)",
   "language": "python",
   "name": "python3"
  },
  "language_info": {
   "codemirror_mode": {
    "name": "ipython",
    "version": 3
   },
   "file_extension": ".py",
   "mimetype": "text/x-python",
   "name": "python",
   "nbconvert_exporter": "python",
   "pygments_lexer": "ipython3",
   "version": "3.9.7"
  }
 },
 "nbformat": 4,
 "nbformat_minor": 5
}
