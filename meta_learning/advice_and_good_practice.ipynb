{
 "cells": [
  {
   "cell_type": "markdown",
   "metadata": {},
   "source": [
    "# Meta Machine Learning"
   ]
  },
  {
   "cell_type": "markdown",
   "metadata": {},
   "source": [
    "Predictive modeling is a term that encompasses machine learning, artificial intelligence, etc., that focuses on **predictions**. While the primary interest of predictive modeling is to generate accurate predictions, a second concern is **interpretability**."
   ]
  },
  {
   "cell_type": "markdown",
   "metadata": {},
   "source": [
    "Beware of the reasons why predictive modeling fails: \n",
    "   - inadequate pre-processing of data; \n",
    "   - inadequate model validation; \n",
    "   - training and testing data are not from the same distribution, or lack of stability; \n",
    "   - overfitting. "
   ]
  },
  {
   "cell_type": "markdown",
   "metadata": {},
   "source": [
    "Note the importance of **expert judgments**:\n",
    "   - \"In the end, predictive modeling is not a substitute for intuition, but a compliment.\"\n",
    "   - \"Traditional experts make better decisions when they are provided the results of statistical predictions.\""
   ]
  },
  {
   "cell_type": "markdown",
   "metadata": {},
   "source": [
    "It is important to **understand the predictors**\n",
    " - Predictor sets may contain numerically redundant information.\n",
    " - Predictors may be sparse\n",
    " - Predictors may not be relevant to responses - **feature selection** is the process of determining the minimum set of relevant predictors needed.\n",
    " - One needs to be mindful of the relation between the number of samples vs. the number of predictors.\n",
    "    \n",
    "   "
   ]
  },
  {
   "cell_type": "markdown",
   "metadata": {},
   "source": [
    "It is generally a good practice to **visualize the data** before doing anything. \n",
    "  - If the predictors are of low-dimension, a scatterplot probably suffices. \n",
    "  - If there are multiple predictors, plots that help understand the cross-relationship between predictors are needed"
   ]
  },
  {
   "cell_type": "markdown",
   "metadata": {},
   "source": [
    "For any given problem, if possible, **evaluate several models**.\n",
    " - Model assessment for supervised machine learning problems are usually addressed using [**cross-validation**](cross_validation.ipynb), which is an estimate of prediction error.\n",
    " - Traditional statistical learning, which emphasizes interpretability, often use [**information criterions and all kinds of metrics**](metrics_and_information_criterions.ipynb), more than often calculated by resampling.\n",
    " - Visualization can be useful in gauging model performance."
   ]
  },
  {
   "cell_type": "markdown",
   "metadata": {},
   "source": [
    "**Randomly** (try to put this somewhere else), when encoding one-hot vector for multi-class classification, if using KL divergence as the loss function, it is sometimes useful to set the target output to $[\\epsilon, \\epsilon, (1-(K-1)\\epsilon, \\epsilon, \\epsilon)]$. This is called **label smoothing** and aids gradient descent."
   ]
  },
  {
   "cell_type": "markdown",
   "metadata": {},
   "source": [
    "## Reference\n",
    "\n",
    "- Applied Predictive Modeling, Chapters 1-2"
   ]
  }
 ],
 "metadata": {
  "anaconda-cloud": {},
  "kernelspec": {
   "display_name": "Python 3",
   "language": "python",
   "name": "python3"
  },
  "language_info": {
   "codemirror_mode": {
    "name": "ipython",
    "version": 3
   },
   "file_extension": ".py",
   "mimetype": "text/x-python",
   "name": "python",
   "nbconvert_exporter": "python",
   "pygments_lexer": "ipython3",
   "version": "3.7.3"
  }
 },
 "nbformat": 4,
 "nbformat_minor": 1
}
