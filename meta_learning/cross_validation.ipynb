{
 "cells": [
  {
   "cell_type": "markdown",
   "metadata": {},
   "source": [
    "## What are Cross-Validations (CV) used for?"
   ]
  },
  {
   "cell_type": "markdown",
   "metadata": {},
   "source": [
    "It is first and foremost used to provide an **estimate and statistics of the prediction errors** when the model is release to the wild.\n",
    "\n",
    "An implication of that is the model can be used to **choose for hyperparameters** (e.g. those that determines the degree of regularitzation) or even **perform feature selection**. \n",
    "- For example, sequential forward selection (SFS) of features uses a nested holdout procedure to first pick the best individual feature, by looking at all models built using just one feature. After choosing a first feature, SFS tests all models that add a second feature to this first chosen feature. The best pair is then selected. Next the same procedure is done for three, then four, and so on. When adding a feature does not improve classification accuracy on the validation data, the SFS process stops. \n",
    "- There is a similar procedure called sequential backward elimination of features. As you might guess, it works by starting with all features and discarding features one at a time. It continues to discard features as long as there is no performance loss.\n",
    "\n",
    "Note that using cv to pick hyperparameters suffer from so-called **'multiple comparisons'** (e.g., choosing the best complexity for a model by comparing many complexities). , i.e. many multiple statistical tests are run and then simply the results that look good are picked. Thus cv can only be seen as a safeguard to model overfitting, rather than a guarantee of model generalization. This is perhaps also the reason why you would see test error usually higher than what CV has estimated it to be.\n",
    "\n",
    "Often a 'one-standard error' rule is used with cross-validation, in which we choose the most parsimonious model whose error is no more than one standard error above the error of the best model (though sometimes parsimonious may be ambiguous). The standard deviation can be estimated by the CV across the folds."
   ]
  },
  {
   "cell_type": "markdown",
   "metadata": {},
   "source": [
    "## What are the different types of cross validations?"
   ]
  },
  {
   "cell_type": "markdown",
   "metadata": {},
   "source": [
    "### K-Fold Cross-Validation\n",
    "\n",
    "Let $\\kappa : \\{1, . . . , N\\} \\rightarrow \\{1, . . . , K\\}$ be an indexing function that indicates the partition to which observation $i$ is allocated by the randomization. Denote by $\\hat{f}^{-k}(x)$ the fitted function, computed with the $k$-th part of the data removed. Then the cross-validation estimate of prediction error is\n",
    "\\begin{align}\n",
    "CV(\\hat{f}) = \\frac{1}{N}\\sum_{n=1}^NL(y_n, \\hat{f}^{-\\kappa(n)}(x_n)),\n",
    "\\end{align}\n",
    "where $L$ denote the loss function. Note that CV only leaves out the data in fitting, while the prediction loss is taken over all the training samples. Put in another way, one needs to train $\\kappa$ models, and predict all-over the samples, though in this way, we are summing over in-sample and out-of-sample errors. This is probably why in the `sklearn` implementation, the validation error is computed out of the validation set, not the whole training set\n",
    "\n",
    "### Leave-One-Out\n",
    "\n",
    "The case where $K=N$ is known as **leave-one-out cross validation**. \n",
    "- With $K=N$, the cross-validation estimator is a relatively unbiased for the true (expected) prediction error, but can have high variance because the $N$ 'training sets' by leaving only one out are so similar to one another. The computational burden is also considerable, requiring to train $N$ models.\n",
    "- On the other hand, with K = 5 say, cross-validation has lower variance. But bias could be a problem, depending on how the performance of the learning method varies with the size of the training set. \n",
    "\n",
    "Overall, five- or tenfold cross-validation are recommended as good compromises. \n",
    "\n",
    "By the way, it is also possible to do 'Leave-P-Out' in `sklearn`.\n",
    "\n",
    "### Repeated K-fold\n",
    "\n",
    "Just repeat K-fold several times, each time with a different split arrangment by randomness.\n",
    "\n",
    "### Stratified K-fold\n",
    "\n",
    "Variation of k-fold which returns stratified folds: each set contains approximately the same percentage of samples of each target class as the complete set. This is recommended for classification problems with imbalanced classes.\n",
    "\n",
    "### Approximations: Generalized Cross-validation\n",
    "\n",
    "Generalized cross-validation provides a convenient approximation to leaveone out cross-validation, for linear fitting under squared-error loss.\n",
    "\n",
    "A linear fitting method is one for which we can write\n",
    "\\begin{align}\n",
    "\\hat{y} = Sy.\n",
    "\\end{align}\n",
    "It can be show that for many linear fitting methods, \n",
    "\\begin{align}\n",
    "\\frac{1}{N}\\sum_{n=1}^N[y_n-\\hat{f}^{-n}(x_n)]^2 = \\frac{1}{N}\\sum_{n=1}^N\\left[\\frac{y_n-\\hat{f}(x_n)}{1-S_{nn}}\\right]^2,\n",
    "\\end{align}\n",
    "where $S_{nn}$ is the $n$-th diagonal element of $S$. The GCV approximation is then \n",
    "\\begin{align}\n",
    "GCV{\\hat{f}} = \\frac{1}{N}\\sum_{n=1}^N\\left[\\frac{y_n-\\hat{f}(x_n)}{1-trace(S)/N}\\right]^2,\n",
    "\\end{align}\n",
    "by appealing to the approximation $1/(1-x)^2\\approx 1+2x$."
   ]
  },
  {
   "cell_type": "markdown",
   "metadata": {},
   "source": [
    "## What is the usual blunder/wrong way in doing cross validation?"
   ]
  },
  {
   "cell_type": "markdown",
   "metadata": {},
   "source": [
    "It is called **data leakage**, whereby information is inadvently shared between the training and test set, or between the training and validation set within a fold, therefore making the test set or validation set not a good proxy to 'data that we will see if the model is released out in the wild'.\n",
    "\n",
    "Though this concept seems straightforward, data leakage can be sneaky. Following are by no means an exhaustive list of scenarios that trip people up.\n",
    "\n",
    "#### Inproper pre-processing\n",
    "\n",
    "- This is an example in Section 7.10.2 in ESL, where features are chosen on the *whole train set* before cv is carried out. Since which feature is important now depends on the whole set information, it sabotages the effectiveness of cv.\n",
    "\n",
    "- Another example is when one looks at why model performs badly on test data, and improve accordingly (see below). But in this sense, optimizing hyper-parameter using cv is suspicious; see the comment about 'multiple comparison' above.\n",
    "\n",
    "- In cv, the model should be completely re-trained using just the train data in that fold, though evaluation of errors is on the whole data set.\n",
    "\n",
    "- When trying to impute missing data, sample mean of the whole data set rather than the training set is used, for instance.\n",
    "\n",
    "- Accidentally call `fit_transform` instead of `transform` when applying the same `Pipeline` in `sklearn` to your test data before making prediction - you do not want to fit the test set!\n",
    "\n",
    "#### Duplicates\n",
    "\n",
    "When train and test sets have identical data (duplications).\n",
    "\n",
    "#### Temporal applications\n",
    "\n",
    "When future information is used to train the model and test on the past."
   ]
  },
  {
   "cell_type": "markdown",
   "metadata": {},
   "source": [
    "## If a model, after cross-validated, performs badly in the test data. Can we go back and tune the model parameters/hyper-parameters further so that it performs better in the test data?"
   ]
  },
  {
   "cell_type": "markdown",
   "metadata": {},
   "source": [
    "If one tries to look at how the model performs badly on some instances of the training data, seek to remedy those and that brings improvement of model performance on the test data, it is acceptable. \n",
    "\n",
    "On the other hand, a big taboo is to directly look at instances in the test data to improve model performance."
   ]
  },
  {
   "cell_type": "markdown",
   "metadata": {},
   "source": [
    "## `sklearn` implementation details of cross validation"
   ]
  },
  {
   "cell_type": "code",
   "execution_count": null,
   "metadata": {},
   "outputs": [],
   "source": [
    "from sklearn.model_selection import cross_val_score\n",
    "estimator = svm.SVC(kernel='linear', C=1)\n",
    "scores = cross_val_score(estimator, X, y, cv=5, scoring=None)"
   ]
  },
  {
   "cell_type": "markdown",
   "metadata": {},
   "source": [
    "The inputs of `cross_val_score`\n",
    "- **`estimator`**: estimator object with method `fit`, the object to use to fit the data\n",
    "- **`X`**: data to fit\n",
    "- **`y`**: labels\n",
    "- **`scoring`**: A `str` (see [evaluation_metrics_and_information_criterions](evaluation_metrics_and_information_criterions.ipynb)) or a scorer callable object/function with signature `scorer(estimator, X, y)` which should return only a single value.\n",
    "- **`cv`**: `int`, cross-validation generator or an iterable, default=None\n",
    "Determines the cross-validation splitting strategy. Possible inputs for cv are:\n",
    "    \n",
    "    - `None`, to use the default 5-fold cross validation for stratified KFold,\n",
    "\n",
    "    - `int`, to specify the number of folds in a `(Stratified)KFold`,\n",
    "\n",
    "    - CV splitter (see below),\n",
    "\n",
    "    - An iterable yielding (train, test) splits as arrays of indices."
   ]
  },
  {
   "cell_type": "markdown",
   "metadata": {},
   "source": [
    "## What are CV splitters in `sklearn`?"
   ]
  },
  {
   "cell_type": "markdown",
   "metadata": {},
   "source": [
    "CV splitters are also called cross validation iterators in `sklearn` [document](https://scikit-learn.org/stable/modules/cross_validation.html#cross-validation-iterators). It is a generator, which implments `split` method on `X` that produces indices that can be used to generate dataset splits according to different cross validation strategies. It is also be passed as an argument to `cv` in `cross_val_score`. The usual ones mentioned above all have `sklearn` implmentations:"
   ]
  },
  {
   "cell_type": "code",
   "execution_count": null,
   "metadata": {},
   "outputs": [],
   "source": [
    "# K-fold\n",
    "from sklearn.model_selection import KFold\n",
    "kf = KFold(n_splits=2)\n",
    "# Repeated K-fold\n",
    "from sklearn.model_selection import RepeatedKFold\n",
    "rkf = RepeatedKFold(n_splits=2, n_repeats=2, random_state=random_state)\n",
    "# Leave One Out\n",
    "from sklearn.model_selection import LeaveOneOut\n",
    "loo = LeaveOneOut()\n",
    "# ShuffleSplit - not mentioned above, but simply a user defined number of independent train/test splits.\n",
    "from sklearn.model_selection import ShuffleSplit\n",
    "ss = ShuffleSplit(n_splits=5, test_size=0.25, random_state=0)\n",
    "# Stratified K-fold\n",
    "from sklearn.model_selection import StratifiedKFold\n",
    "skf = StratifiedKFold(n_splits=3)"
   ]
  },
  {
   "cell_type": "markdown",
   "metadata": {},
   "source": [
    "## How to use `sklearn` and cv to fine-tune hyperparameters of the models?"
   ]
  },
  {
   "cell_type": "markdown",
   "metadata": {},
   "source": [
    "### Exhaustive Grid Search\n",
    "\n",
    "`GridSearchCV` uses cross-validation to evaluate all the possible combinations of hyperparameter values. "
   ]
  },
  {
   "cell_type": "code",
   "execution_count": null,
   "metadata": {},
   "outputs": [],
   "source": [
    "from sklearn.model_selection import GridSearchCV\n",
    "param_grid = [{'n_estimators': [3, 10, 30], 'max_features': [2, 4, 6, 8]},\n",
    "    {'bootstrap': [False], 'n_estimators': [3, 10], 'max_features': [2, 3, 4]},\n",
    "]\n",
    "estimator = RandomForestRegressor()\n",
    "grid_search = GridSearchCV(estimator, param_grid, cv=5, scoring='neg_mean_squared_error', return_train_score=True)\n",
    "grid_search.fit(X, y)\n",
    "grid_search.best_params_\n",
    "grid_search.best_estimator_"
   ]
  },
  {
   "cell_type": "markdown",
   "metadata": {},
   "source": [
    "All inputs are those with `cross_val_score`. One of the few things worths mentioning is `param_grid`. It can either be a `dict` of a list of `dict`, where the keys are the hyperparameter to the `estimator`, and values are lists of candidate values of that hyperparameter. For each element (`dict`) in the list of `param_grid`, all combinations of hyperparameters in the list are tried in the cv.\n",
    "\n",
    "Another input to `GridSearchCV` is `refit`, which is `True` by default: once it finds the best estimator using cross-validation, it retrains it on the whole training set. This is usually a good idea, since feeding it more data will likely improve its performance."
   ]
  },
  {
   "cell_type": "markdown",
   "metadata": {},
   "source": [
    "### Randomized Parameter Optimization\n",
    "\n",
    "The grid search approach is fine when you are exploring relatively few combinations, but when the hyperparameter search space is large, the ususal curve of dimensionality arises. Just as Monte Carlo methods is the answer to high-dimension difficulty in numerical integration, it is often preferable to use `RandomizedSearchCV` instead. This class can be used in much the same way as the `GridSearchCV` class, but instead of trying out all possible combinations, it evaluates a given number of random combinations by selecting a random value for each hyperparameter at every iteration.\n",
    "\n",
    "Specifying how parameters should be sampled is done using a dictionary, very similar to specifying parameters for `GridSearchCV`. Additionally, a computation budget, being the number of sampled candidates or sampling iterations, is specified using the `n_iter` parameter. For each parameter, either a distribution over possible values or a list of discrete choices (which will be sampled uniformly) can be specified."
   ]
  },
  {
   "cell_type": "markdown",
   "metadata": {},
   "source": [
    "## What is a good visualization tool for fine-tuning models using CV?"
   ]
  },
  {
   "cell_type": "markdown",
   "metadata": {},
   "source": [
    "The proper way of choosing multiple hyperparameters of an estimator are of course grid search or similar methods that select the hyperparameter with the maximum score on a validation set or multiple validation sets. Note that if we optimized the hyperparameters based on a validation score the validation score is biased and not a good estimate of the generalization any longer. To get a proper estimate of the generalization we have to compute the score on another test set.\n",
    "\n",
    "However, it is sometimes helpful to plot the influence of a single hyperparameter on the training score and the validation score to find out whether the estimator is overfitting or underfitting for some hyperparameter values.\n",
    "\n",
    "The function `validation_curve` can help in this case, which computes training and test scores for varying parameter values."
   ]
  },
  {
   "cell_type": "code",
   "execution_count": null,
   "metadata": {},
   "outputs": [],
   "source": [
    "import numpy as np\n",
    "from sklearn.model_selection import validation_curve\n",
    "from sklearn.datasets import load_iris\n",
    "from sklearn.linear_model import Ridge\n",
    "\n",
    "np.random.seed(0)\n",
    "X, y = load_iris(return_X_y=True)\n",
    "indices = np.arange(y.shape[0])\n",
    "np.random.shuffle(indices)\n",
    "X, y = X[indices], y[indices]\n",
    "estimator=Ridge()\n",
    "\n",
    "train_scores, valid_scores = validation_curve(estimator, X, y, \"alpha\",\n",
    "...                                               np.logspace(-7, 3, 3),\n",
    "...                                               cv=5)"
   ]
  },
  {
   "cell_type": "markdown",
   "metadata": {},
   "source": [
    "The inputs of `validation_curve` is similar to that of `cross_val_score` aforementioned, except for the following\n",
    "\n",
    "- **`param_name`** `str` Name of the parameter that will be varied.\n",
    "\n",
    "- **`param_range`** array-like of shape `(n_values,)`.  The values of the parameter that will be evaluated."
   ]
  },
  {
   "cell_type": "markdown",
   "metadata": {},
   "source": [
    "## What is the difference between a learning curve and a validation curve?"
   ]
  },
  {
   "cell_type": "markdown",
   "metadata": {},
   "source": [
    "A learning curve shows the generalization performance—the performance only on testing data, plotted against the amount of training data used. A validation graph shows the generalization performance as well as the performance on the training data, but plotted against some model parameter. Validation graphs generally are shown for a fixed amount of training data.\n",
    "\n",
    "The implementation of `learning_curve` is introduced in [debugging-ml-algorithms](debugging-ml-algorithms.ipynb)."
   ]
  },
  {
   "cell_type": "markdown",
   "metadata": {},
   "source": [
    "## What is a good CV strategy for time-series?"
   ]
  },
  {
   "attachments": {
    "time-series-split.PNG": {
     "image/png": "[encoded data removed]"
    }
   },
   "cell_type": "markdown",
   "metadata": {},
   "source": [
    "Use a rolling split, to make sure we do not use the future to predict the past:\n",
    "\n",
    "![time-series-split.PNG](attachment:time-series-split.PNG)\n",
    "\n",
    "It is implemented in the cv splitter `timeseriessplit` in `sklearn`."
   ]
  },
  {
   "cell_type": "markdown",
   "metadata": {},
   "source": [
    "## References\n",
    "\n",
    "- < Data Science for Business >, Chapter 5.\n",
    "- ESL, Chapter 7.10\n",
    "- sklearn document, [Section 3.1](https://scikit-learn.org/stable/modules/cross_validation.html), [3.2](https://scikit-learn.org/stable/modules/grid_search.html)"
   ]
  }
 ],
 "metadata": {
  "kernelspec": {
   "display_name": "Python 3",
   "language": "python",
   "name": "python3"
  },
  "language_info": {
   "codemirror_mode": {
    "name": "ipython",
    "version": 3
   },
   "file_extension": ".py",
   "mimetype": "text/x-python",
   "name": "python",
   "nbconvert_exporter": "python",
   "pygments_lexer": "ipython3",
   "version": "3.7.3"
  }
 },
 "nbformat": 4,
 "nbformat_minor": 2
}
