{
 "cells": [
  {
   "cell_type": "markdown",
   "id": "7900464f",
   "metadata": {},
   "source": [
    "### Error Analysis, or Residual Analysis\n",
    "\n",
    "Plot the scatter plot of the ground truth vs. model predicted value. \n",
    "- By looking at instances that are **far away from the $y=x$ line**, i.e. model is not doing a good job predicting the ground truth, one can quickly find examples where the model does poorly, and potentially can inform which component 'breaks', enhance domain knowledge or finding bugs. \n",
    "- Another thing is watch out for is **residuals should be randomly distributed**: it is a red flag if you find autocorrelation, especially on models fitting time-series data; or if it is a function of the feature(s).\n",
    "\n",
    "**Even if a learning algorithm is working well, you might also run error analysis to make sure you understand what is going on**. Rather than saying 'Here’s an algorithm that works,' it’s more interesting to say 'Here’s an algorithm that works because of component X, and here’s my justification.'\n",
    "\n",
    "   - Note that you can check examples in the training data for bad-performance examples, but not in the test dataset; see discussion in [cross_validation_and_backtesting](cross_validation_and_backtesting.ipynb).\n",
    "   - Model performance can be improved by \n",
    "       - including more features, espcially when it is found that a **certain feature has high correlation with the residuals**, and thus potentially can be used to predict the residuals.\n",
    "       - **better feature engineering**, \n",
    "       - **adding data on certain categories**, i.e. subset of data which share a common set of feature values, by \n",
    "            - (a) simply acquire more data\n",
    "            - (b) data augmentation\n",
    "            - (c) better labeling/better quality of data.\n",
    "   - To determine [what improvement work to prioritize on](https://www.coursera.org/learn/introduction-to-machine-learning-in-production/lecture/6kFkv/prioritizing-what-to-work-on), establish categories (see above) and consider\n",
    "       - How much room for improvement there is, by comparing to a baseline model maybe\n",
    "       - How frequently that category appears\n",
    "       - How easy it is to improve accuracy in that category\n",
    "       - How important it is to improve in that category (ethnic or business needs that makes certain examples more important)"
   ]
  }
 ],
 "metadata": {
  "kernelspec": {
   "display_name": "Python 3 (ipykernel)",
   "language": "python",
   "name": "python3"
  },
  "language_info": {
   "codemirror_mode": {
    "name": "ipython",
    "version": 3
   },
   "file_extension": ".py",
   "mimetype": "text/x-python",
   "name": "python",
   "nbconvert_exporter": "python",
   "pygments_lexer": "ipython3",
   "version": "3.9.7"
  }
 },
 "nbformat": 4,
 "nbformat_minor": 5
}
