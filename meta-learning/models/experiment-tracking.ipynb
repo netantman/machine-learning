{
 "cells": [
  {
   "cell_type": "markdown",
   "id": "0c49c8fd",
   "metadata": {},
   "source": [
    "### Experiment Tracking\n",
    "\n",
    "This can also be considered as **backtesting**, where motivation is to keep track of models we already tried and to compare models on equal footing (why do we need to compare models? See below). The key is to have some replicability and record what has been tried already. It is very useful in the iterations of models.\n",
    "\n",
    "- Algorithm/Model code versioning\n",
    "- Dataset used\n",
    "    - The goal is to be able to replay\n",
    "    - Versioning your dataset is a good idea, and there are tool to accomplish it, such as `Neptune` or `ML-Metadata` (have not tried out those yet).\n",
    "- Hyperparameters\n",
    "    - A good solution to track hyperparameters is to specify them in a config file, and version the config file together with your code.\n",
    "- Results - tagging every run\n",
    "    - Summary statistics/analysis that can quickly provide the topline\n",
    "    - Computing resource monitoring, such throughput etc.\n",
    "    - Visualization, of both model outcome and computing resource\n",
    "    - Detailed model error analysis: examples of instances or tags that are screwed up\n",
    "    - `tensorboard` may be able to record these results, even during training rather than after the model runs."
   ]
  },
  {
   "cell_type": "markdown",
   "id": "a000adf1",
   "metadata": {},
   "source": [
    "## References\n",
    "- [Deploying Machine Learning Models in Production: ML Experiments Management and Workflow Automation](https://www.coursera.org/learn/deploying-machine-learning-models-in-production/quiz/yvoSe/ml-experiments-management-and-workflow-automation)"
   ]
  }
 ],
 "metadata": {
  "kernelspec": {
   "display_name": "Python 3 (ipykernel)",
   "language": "python",
   "name": "python3"
  },
  "language_info": {
   "codemirror_mode": {
    "name": "ipython",
    "version": 3
   },
   "file_extension": ".py",
   "mimetype": "text/x-python",
   "name": "python",
   "nbconvert_exporter": "python",
   "pygments_lexer": "ipython3",
   "version": "3.9.7"
  }
 },
 "nbformat": 4,
 "nbformat_minor": 5
}
