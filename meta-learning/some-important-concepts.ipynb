{
 "cells": [
  {
   "cell_type": "markdown",
   "metadata": {},
   "source": [
    "## Instance-based vs. Model-based learning"
   ]
  },
  {
   "cell_type": "markdown",
   "metadata": {},
   "source": [
    "- If the algorithm is **model-based**, it tunes some parameters to fit the model to the training set (i.e., to make good predictions on the training set itself), and then hopefully it will be able to make good predictions on new cases as well. \n",
    "- If the algorithm is **instance-based**, it just learns the examples by heart and generalizes to new instances by using a similarity measure to compare them to the learned instances."
   ]
  },
  {
   "cell_type": "markdown",
   "metadata": {},
   "source": [
    "## What are some high-level ML tasks?"
   ]
  },
  {
   "cell_type": "markdown",
   "metadata": {},
   "source": [
    "Following is summarized in < Data Science for Business >\n",
    "\n",
    "- Classification and class prob estimation\n",
    "- Regression\n",
    "- Similarity Matching: similarity matching is the basis for one of the most popular methods for making product recommendations.\n",
    "- Clustering\n",
    "- Co-occurence grouping, also known as frequent itemset mining, association rule discovery, and market-basket analysis\n",
    "- Profiling, or anomaly detection\n",
    "- Link prediction: to predict connections between data items, usually by suggesting that a link should exist, and possibly also estimating the strength of the link - this is helpful in social networking systems\n",
    "- Data reduction: including dimension reduction maybe\n",
    "- Causal modeling"
   ]
  },
  {
   "cell_type": "markdown",
   "metadata": {},
   "source": [
    "## Reference\n",
    "\n",
    "- < Hands-on Machine Learning >, Chapter 1\n",
    "- < Data Science for Business >"
   ]
  }
 ],
 "metadata": {
  "kernelspec": {
   "display_name": "Python 3",
   "language": "python",
   "name": "python3"
  },
  "language_info": {
   "codemirror_mode": {
    "name": "ipython",
    "version": 3
   },
   "file_extension": ".py",
   "mimetype": "text/x-python",
   "name": "python",
   "nbconvert_exporter": "python",
   "pygments_lexer": "ipython3",
   "version": "3.7.3"
  }
 },
 "nbformat": 4,
 "nbformat_minor": 2
}
