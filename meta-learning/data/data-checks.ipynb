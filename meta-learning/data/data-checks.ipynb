{
 "cells": [
  {
   "cell_type": "markdown",
   "id": "30ce8f66",
   "metadata": {},
   "source": [
    "### Things to check for data\n",
    "\n",
    "- **Leakage**: Information about labels sneaks into features\n",
    "- **Sample bias**: Test inputs and deployment inputs have different distributions, also called **distribution skew**.\n",
    "    - Sometimes that could also be caused by the set of transformations/feature engineering that is done in training is not done/done differently in testing/serving: those errors are typically very hard to find. See the different cases where inconsitencies in feature engineering arise in [data-preprocessing-feature-engineering](data-preprocessing-feature-engineering.ipynb).\n",
    "- **Schema skew**: training and serving/testing data do not conform to the same schema - this can probably be prevented by a simple check.\n",
    "- **Nonstationary** or **Domain Shift**: When the thing you are modeling changes over time (note that these terms are used loosely)\n",
    "    - **Covaraiate Shift** or **Data shift**: input distribution $P(X)$ changes over time\n",
    "    - **Concept Shift**: correct output $P(y|X)$ for given input changes over time\n",
    "    - **Label Shift**: label distribution $P(y)$ changes over time.\n",
    "  \n",
    "  There are many ways to detect the statistical drifts and skews above, including, from simple to more sophisticated: \n",
    "    - checking simple statistics of the distribution can be helpful;\n",
    "    - formal distribution checks such as KL divergence.\n",
    "  \n",
    "  The skews and drifts can be the norm rather than the exception in financial market. \n",
    "  - Solution can be to recalibrate the model in an online fashion and/or put more weight on most recent data whereby weights are controlled by a half-life parameter. \n",
    "  - On the other hand, one can argue that since all we care is model performance after all, we can monitor model performance directly rather than paying attention to the drifts and skews; drifts and skews however, can be important things to check in explaining why a model work or does not work."
   ]
  }
 ],
 "metadata": {
  "kernelspec": {
   "display_name": "Python 3 (ipykernel)",
   "language": "python",
   "name": "python3"
  },
  "language_info": {
   "codemirror_mode": {
    "name": "ipython",
    "version": 3
   },
   "file_extension": ".py",
   "mimetype": "text/x-python",
   "name": "python",
   "nbconvert_exporter": "python",
   "pygments_lexer": "ipython3",
   "version": "3.9.7"
  }
 },
 "nbformat": 4,
 "nbformat_minor": 5
}
