{
 "cells": [
  {
   "cell_type": "markdown",
   "id": "ce7fc719",
   "metadata": {},
   "source": [
    "### Understanding $p(x)$   \n",
    " \n",
    "It is generally a good practice to **visualize the $p(x)$** if possible: see `scatterplot` from `pandas.plotting`, and there is also a `scatter` option to choose from in `DataFrame.plot`.\n",
    "  - If the predictors are of low-dimension, a scatterplot probably suffices. \n",
    "  - If there are multiple predictors, plots that help understand the cross-relationship between predictors are needed\n",
    "  \n",
    "### Understanding $p(y|x)$\n",
    "\n",
    "Andrew Ng mentions he likes to spend a few hours or even days inspecting some training examples, even to correct for a few, just to gain some intuition. Of course this is not scalable for large datasets, but perhaps randomly sampling a few to inspect is still useful. **Visualizing $p(y|x)$ will give you a sense of how noisy the signal is, and guide expectation on model performance**."
   ]
  }
 ],
 "metadata": {
  "kernelspec": {
   "display_name": "Python 3 (ipykernel)",
   "language": "python",
   "name": "python3"
  },
  "language_info": {
   "codemirror_mode": {
    "name": "ipython",
    "version": 3
   },
   "file_extension": ".py",
   "mimetype": "text/x-python",
   "name": "python",
   "nbconvert_exporter": "python",
   "pygments_lexer": "ipython3",
   "version": "3.9.7"
  }
 },
 "nbformat": 4,
 "nbformat_minor": 5
}
